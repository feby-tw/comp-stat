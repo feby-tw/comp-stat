{
  "nbformat": 4,
  "nbformat_minor": 0,
  "metadata": {
    "colab": {
      "provenance": [],
      "authorship_tag": "ABX9TyP849hLipLPYK0XAvO+mxA2",
      "include_colab_link": true
    },
    "kernelspec": {
      "name": "python3",
      "display_name": "Python 3"
    },
    "language_info": {
      "name": "python"
    }
  },
  "cells": [
    {
      "cell_type": "markdown",
      "metadata": {
        "id": "view-in-github",
        "colab_type": "text"
      },
      "source": [
        "<a href=\"https://colab.research.google.com/github/feby-tw/comp-stat/blob/main/ta-1-no-3.ipynb\" target=\"_parent\"><img src=\"https://colab.research.google.com/assets/colab-badge.svg\" alt=\"Open In Colab\"/></a>"
      ]
    },
    {
      "cell_type": "markdown",
      "source": [
        "# Implementasi Regesi Linear Berganda"
      ],
      "metadata": {
        "id": "Q2KkvG7Z6owN"
      }
    },
    {
      "cell_type": "markdown",
      "source": [
        "## Step 1: Menyiapkan Data"
      ],
      "metadata": {
        "id": "cwsbxfgY6hRG"
      }
    },
    {
      "cell_type": "code",
      "execution_count": null,
      "metadata": {
        "id": "yH5GjSD45tDv"
      },
      "outputs": [],
      "source": [
        "# Import libraries\n",
        "import pandas as pd\n",
        "import numpy as np\n",
        "import statsmodels.api as sm\n",
        "from sklearn.linear_model import LinearRegression"
      ]
    },
    {
      "cell_type": "code",
      "source": [
        "# Upload file\n",
        "from google.colab import files\n",
        "uploaded = files.upload()"
      ],
      "metadata": {
        "colab": {
          "base_uri": "https://localhost:8080/",
          "height": 73
        },
        "id": "gGlygjH37ByW",
        "outputId": "324ea8ba-0225-4e18-eab3-e89fa5c26431"
      },
      "execution_count": null,
      "outputs": [
        {
          "output_type": "display_data",
          "data": {
            "text/plain": [
              "<IPython.core.display.HTML object>"
            ],
            "text/html": [
              "\n",
              "     <input type=\"file\" id=\"files-3d81e0c5-8d3f-42dc-bd1d-f66a573f9b4f\" name=\"files[]\" multiple disabled\n",
              "        style=\"border:none\" />\n",
              "     <output id=\"result-3d81e0c5-8d3f-42dc-bd1d-f66a573f9b4f\">\n",
              "      Upload widget is only available when the cell has been executed in the\n",
              "      current browser session. Please rerun this cell to enable.\n",
              "      </output>\n",
              "      <script>// Copyright 2017 Google LLC\n",
              "//\n",
              "// Licensed under the Apache License, Version 2.0 (the \"License\");\n",
              "// you may not use this file except in compliance with the License.\n",
              "// You may obtain a copy of the License at\n",
              "//\n",
              "//      http://www.apache.org/licenses/LICENSE-2.0\n",
              "//\n",
              "// Unless required by applicable law or agreed to in writing, software\n",
              "// distributed under the License is distributed on an \"AS IS\" BASIS,\n",
              "// WITHOUT WARRANTIES OR CONDITIONS OF ANY KIND, either express or implied.\n",
              "// See the License for the specific language governing permissions and\n",
              "// limitations under the License.\n",
              "\n",
              "/**\n",
              " * @fileoverview Helpers for google.colab Python module.\n",
              " */\n",
              "(function(scope) {\n",
              "function span(text, styleAttributes = {}) {\n",
              "  const element = document.createElement('span');\n",
              "  element.textContent = text;\n",
              "  for (const key of Object.keys(styleAttributes)) {\n",
              "    element.style[key] = styleAttributes[key];\n",
              "  }\n",
              "  return element;\n",
              "}\n",
              "\n",
              "// Max number of bytes which will be uploaded at a time.\n",
              "const MAX_PAYLOAD_SIZE = 100 * 1024;\n",
              "\n",
              "function _uploadFiles(inputId, outputId) {\n",
              "  const steps = uploadFilesStep(inputId, outputId);\n",
              "  const outputElement = document.getElementById(outputId);\n",
              "  // Cache steps on the outputElement to make it available for the next call\n",
              "  // to uploadFilesContinue from Python.\n",
              "  outputElement.steps = steps;\n",
              "\n",
              "  return _uploadFilesContinue(outputId);\n",
              "}\n",
              "\n",
              "// This is roughly an async generator (not supported in the browser yet),\n",
              "// where there are multiple asynchronous steps and the Python side is going\n",
              "// to poll for completion of each step.\n",
              "// This uses a Promise to block the python side on completion of each step,\n",
              "// then passes the result of the previous step as the input to the next step.\n",
              "function _uploadFilesContinue(outputId) {\n",
              "  const outputElement = document.getElementById(outputId);\n",
              "  const steps = outputElement.steps;\n",
              "\n",
              "  const next = steps.next(outputElement.lastPromiseValue);\n",
              "  return Promise.resolve(next.value.promise).then((value) => {\n",
              "    // Cache the last promise value to make it available to the next\n",
              "    // step of the generator.\n",
              "    outputElement.lastPromiseValue = value;\n",
              "    return next.value.response;\n",
              "  });\n",
              "}\n",
              "\n",
              "/**\n",
              " * Generator function which is called between each async step of the upload\n",
              " * process.\n",
              " * @param {string} inputId Element ID of the input file picker element.\n",
              " * @param {string} outputId Element ID of the output display.\n",
              " * @return {!Iterable<!Object>} Iterable of next steps.\n",
              " */\n",
              "function* uploadFilesStep(inputId, outputId) {\n",
              "  const inputElement = document.getElementById(inputId);\n",
              "  inputElement.disabled = false;\n",
              "\n",
              "  const outputElement = document.getElementById(outputId);\n",
              "  outputElement.innerHTML = '';\n",
              "\n",
              "  const pickedPromise = new Promise((resolve) => {\n",
              "    inputElement.addEventListener('change', (e) => {\n",
              "      resolve(e.target.files);\n",
              "    });\n",
              "  });\n",
              "\n",
              "  const cancel = document.createElement('button');\n",
              "  inputElement.parentElement.appendChild(cancel);\n",
              "  cancel.textContent = 'Cancel upload';\n",
              "  const cancelPromise = new Promise((resolve) => {\n",
              "    cancel.onclick = () => {\n",
              "      resolve(null);\n",
              "    };\n",
              "  });\n",
              "\n",
              "  // Wait for the user to pick the files.\n",
              "  const files = yield {\n",
              "    promise: Promise.race([pickedPromise, cancelPromise]),\n",
              "    response: {\n",
              "      action: 'starting',\n",
              "    }\n",
              "  };\n",
              "\n",
              "  cancel.remove();\n",
              "\n",
              "  // Disable the input element since further picks are not allowed.\n",
              "  inputElement.disabled = true;\n",
              "\n",
              "  if (!files) {\n",
              "    return {\n",
              "      response: {\n",
              "        action: 'complete',\n",
              "      }\n",
              "    };\n",
              "  }\n",
              "\n",
              "  for (const file of files) {\n",
              "    const li = document.createElement('li');\n",
              "    li.append(span(file.name, {fontWeight: 'bold'}));\n",
              "    li.append(span(\n",
              "        `(${file.type || 'n/a'}) - ${file.size} bytes, ` +\n",
              "        `last modified: ${\n",
              "            file.lastModifiedDate ? file.lastModifiedDate.toLocaleDateString() :\n",
              "                                    'n/a'} - `));\n",
              "    const percent = span('0% done');\n",
              "    li.appendChild(percent);\n",
              "\n",
              "    outputElement.appendChild(li);\n",
              "\n",
              "    const fileDataPromise = new Promise((resolve) => {\n",
              "      const reader = new FileReader();\n",
              "      reader.onload = (e) => {\n",
              "        resolve(e.target.result);\n",
              "      };\n",
              "      reader.readAsArrayBuffer(file);\n",
              "    });\n",
              "    // Wait for the data to be ready.\n",
              "    let fileData = yield {\n",
              "      promise: fileDataPromise,\n",
              "      response: {\n",
              "        action: 'continue',\n",
              "      }\n",
              "    };\n",
              "\n",
              "    // Use a chunked sending to avoid message size limits. See b/62115660.\n",
              "    let position = 0;\n",
              "    do {\n",
              "      const length = Math.min(fileData.byteLength - position, MAX_PAYLOAD_SIZE);\n",
              "      const chunk = new Uint8Array(fileData, position, length);\n",
              "      position += length;\n",
              "\n",
              "      const base64 = btoa(String.fromCharCode.apply(null, chunk));\n",
              "      yield {\n",
              "        response: {\n",
              "          action: 'append',\n",
              "          file: file.name,\n",
              "          data: base64,\n",
              "        },\n",
              "      };\n",
              "\n",
              "      let percentDone = fileData.byteLength === 0 ?\n",
              "          100 :\n",
              "          Math.round((position / fileData.byteLength) * 100);\n",
              "      percent.textContent = `${percentDone}% done`;\n",
              "\n",
              "    } while (position < fileData.byteLength);\n",
              "  }\n",
              "\n",
              "  // All done.\n",
              "  yield {\n",
              "    response: {\n",
              "      action: 'complete',\n",
              "    }\n",
              "  };\n",
              "}\n",
              "\n",
              "scope.google = scope.google || {};\n",
              "scope.google.colab = scope.google.colab || {};\n",
              "scope.google.colab._files = {\n",
              "  _uploadFiles,\n",
              "  _uploadFilesContinue,\n",
              "};\n",
              "})(self);\n",
              "</script> "
            ]
          },
          "metadata": {}
        },
        {
          "output_type": "stream",
          "name": "stdout",
          "text": [
            "Saving data_dummy.csv to data_dummy.csv\n"
          ]
        }
      ]
    },
    {
      "cell_type": "code",
      "source": [
        "# Read dataset\n",
        "df = pd.read_csv(\"data_dummy.csv\", sep = \";\")\n",
        "print(df.head())\n",
        "print(df.columns)\n",
        "\n",
        "# Check missing values\n",
        "print (df.isnull().sum())"
      ],
      "metadata": {
        "colab": {
          "base_uri": "https://localhost:8080/"
        },
        "id": "XXbIMbny9xEj",
        "outputId": "49a93274-f237-491f-91b6-5ab5b7e94992"
      },
      "execution_count": null,
      "outputs": [
        {
          "output_type": "stream",
          "name": "stdout",
          "text": [
            "  product_id category  reviews_count  rating     price  sales_volume  \\\n",
            "0       P001  Fashion          120.0     4.5  150000.0        1800.0   \n",
            "1       P002  Fashion           80.0     4.2  175000.0        1350.0   \n",
            "2       P003  Fashion           45.0     3.8  120000.0         800.0   \n",
            "3       P004  Fashion          200.0     4.7  200000.0        2500.0   \n",
            "4       P005  Fashion          150.0     4.4  160000.0        1900.0   \n",
            "\n",
            "   Unnamed: 6  Unnamed: 7  Unnamed: 8  Unnamed: 9  Unnamed: 10  Unnamed: 11  \\\n",
            "0         NaN         NaN         NaN         NaN          NaN          NaN   \n",
            "1         NaN         NaN         NaN         NaN          NaN          NaN   \n",
            "2         NaN         NaN         NaN         NaN          NaN          NaN   \n",
            "3         NaN         NaN         NaN         NaN          NaN          NaN   \n",
            "4         NaN         NaN         NaN         NaN          NaN          NaN   \n",
            "\n",
            "   Unnamed: 12  \n",
            "0          NaN  \n",
            "1          NaN  \n",
            "2          NaN  \n",
            "3          NaN  \n",
            "4          NaN  \n",
            "Index(['product_id', 'category', 'reviews_count', 'rating', 'price',\n",
            "       'sales_volume', 'Unnamed: 6', 'Unnamed: 7', 'Unnamed: 8', 'Unnamed: 9',\n",
            "       'Unnamed: 10', 'Unnamed: 11', 'Unnamed: 12'],\n",
            "      dtype='object')\n",
            "product_id        1\n",
            "category          1\n",
            "reviews_count     1\n",
            "rating            1\n",
            "price             1\n",
            "sales_volume      1\n",
            "Unnamed: 6       61\n",
            "Unnamed: 7       61\n",
            "Unnamed: 8       61\n",
            "Unnamed: 9       61\n",
            "Unnamed: 10      61\n",
            "Unnamed: 11      61\n",
            "Unnamed: 12      61\n",
            "dtype: int64\n"
          ]
        }
      ]
    },
    {
      "cell_type": "code",
      "source": [
        "# Remove empty columns\n",
        "df = df.dropna(axis=1, how='all')\n",
        "\n",
        "# Remove empty rows related to the variables\n",
        "df = df.dropna(subset = [\"reviews_count\", \"rating\", \"sales_volume\"])\n",
        "\n",
        "# Convert data variables into numeric data type\n",
        "df[\"reviews_count\"] = pd.to_numeric(df[\"reviews_count\"], errors = \"coerce\")\n",
        "df[\"rating\"] = pd.to_numeric(df[\"rating\"], errors = \"coerce\")\n",
        "df[\"sales_volume\"] = pd.to_numeric(df[\"sales_volume\"], errors = \"coerce\")\n",
        "\n",
        "# Read clean dataset\n",
        "print(df.head())\n",
        "print(df.columns)\n",
        "print(df.dtypes)"
      ],
      "metadata": {
        "colab": {
          "base_uri": "https://localhost:8080/"
        },
        "id": "mp7NP8K9B--7",
        "outputId": "609e00a0-5dac-4eb0-82ed-281e6b9c9804"
      },
      "execution_count": null,
      "outputs": [
        {
          "output_type": "stream",
          "name": "stdout",
          "text": [
            "  product_id category  reviews_count  rating     price  sales_volume\n",
            "0       P001  Fashion          120.0     4.5  150000.0        1800.0\n",
            "1       P002  Fashion           80.0     4.2  175000.0        1350.0\n",
            "2       P003  Fashion           45.0     3.8  120000.0         800.0\n",
            "3       P004  Fashion          200.0     4.7  200000.0        2500.0\n",
            "4       P005  Fashion          150.0     4.4  160000.0        1900.0\n",
            "Index(['product_id', 'category', 'reviews_count', 'rating', 'price',\n",
            "       'sales_volume'],\n",
            "      dtype='object')\n",
            "product_id        object\n",
            "category          object\n",
            "reviews_count    float64\n",
            "rating           float64\n",
            "price            float64\n",
            "sales_volume     float64\n",
            "dtype: object\n"
          ]
        }
      ]
    },
    {
      "cell_type": "markdown",
      "source": [
        "## Step 2: Membentuk Model Regresi\n",
        "\n",
        "Formula: Y=a+b1​X1​+b2​X2​\n",
        "\n",
        "di mana:\n",
        "\n",
        "*   X1 = reviews_count\n",
        "*   X2 = rating\n",
        "*   Y = sales_volume\n",
        "*   a = intercept\n",
        "*   b1, b2 = regression coefficient"
      ],
      "metadata": {
        "id": "bxfkV3Fx-LP1"
      }
    },
    {
      "cell_type": "code",
      "source": [
        "# Define variables\n",
        "\n",
        "## Variable dependent (predictors)\n",
        "X = df[[\"reviews_count\", \"rating\"]]\n",
        "\n",
        "## Variable independent (target)\n",
        "Y = df[\"sales_volume\"]"
      ],
      "metadata": {
        "id": "8fqDyZzn-7BR"
      },
      "execution_count": null,
      "outputs": []
    },
    {
      "cell_type": "markdown",
      "source": [
        "## Step 3: Menerapkan Model Regresi"
      ],
      "metadata": {
        "id": "p6vbhibyAZUi"
      }
    },
    {
      "cell_type": "markdown",
      "source": [
        "### Penerapan Model dengan Statsmodels (OLS)"
      ],
      "metadata": {
        "id": "MYMEBI75D0GW"
      }
    },
    {
      "cell_type": "code",
      "source": [
        "# Add intercept (constant)\n",
        "X_sm = sm.add_constant(X)\n",
        "\n",
        "# Fit model OLS\n",
        "model = sm.OLS(Y, X_sm).fit()\n",
        "\n",
        "# Model Summary\n",
        "print(model.summary())"
      ],
      "metadata": {
        "colab": {
          "base_uri": "https://localhost:8080/"
        },
        "id": "Vh_E7G9YA7eu",
        "outputId": "338b3084-55b5-4660-dde9-a16e93508d8b"
      },
      "execution_count": null,
      "outputs": [
        {
          "output_type": "stream",
          "name": "stdout",
          "text": [
            "                            OLS Regression Results                            \n",
            "==============================================================================\n",
            "Dep. Variable:           sales_volume   R-squared:                       0.957\n",
            "Model:                            OLS   Adj. R-squared:                  0.955\n",
            "Method:                 Least Squares   F-statistic:                     630.0\n",
            "Date:                Mon, 15 Sep 2025   Prob (F-statistic):           1.36e-39\n",
            "Time:                        15:46:03   Log-Likelihood:                -415.92\n",
            "No. Observations:                  60   AIC:                             837.8\n",
            "Df Residuals:                      57   BIC:                             844.1\n",
            "Df Model:                           2                                         \n",
            "Covariance Type:            nonrobust                                         \n",
            "=================================================================================\n",
            "                    coef    std err          t      P>|t|      [0.025      0.975]\n",
            "---------------------------------------------------------------------------------\n",
            "const           169.5575    636.082      0.267      0.791   -1104.175    1443.290\n",
            "reviews_count    15.0417      0.859     17.506      0.000      13.321      16.762\n",
            "rating          -64.3834    175.902     -0.366      0.716    -416.621     287.854\n",
            "==============================================================================\n",
            "Omnibus:                        1.535   Durbin-Watson:                   1.280\n",
            "Prob(Omnibus):                  0.464   Jarque-Bera (JB):                0.828\n",
            "Skew:                           0.044   Prob(JB):                        0.661\n",
            "Kurtosis:                       3.569   Cond. No.                     3.67e+03\n",
            "==============================================================================\n",
            "\n",
            "Notes:\n",
            "[1] Standard Errors assume that the covariance matrix of the errors is correctly specified.\n",
            "[2] The condition number is large, 3.67e+03. This might indicate that there are\n",
            "strong multicollinearity or other numerical problems.\n"
          ]
        }
      ]
    },
    {
      "cell_type": "markdown",
      "source": [
        "### Menggunakan Scikit-Learn"
      ],
      "metadata": {
        "id": "nVeW_ozND4yF"
      }
    },
    {
      "cell_type": "code",
      "source": [
        "reg = LinearRegression()\n",
        "reg.fit(X, Y)\n",
        "\n",
        "print(\"intercept (β0):\", reg.intercept_)\n",
        "print(\"Koefisien (β1 reviews_count, β2 rating):\", reg.coef_)"
      ],
      "metadata": {
        "colab": {
          "base_uri": "https://localhost:8080/"
        },
        "id": "AHYP3Q1OD9np",
        "outputId": "843693d2-0048-4366-de8a-331f42943599"
      },
      "execution_count": null,
      "outputs": [
        {
          "output_type": "stream",
          "name": "stdout",
          "text": [
            "intercept (β0): 169.55747654968263\n",
            "Koefisien (β1 reviews_count, β2 rating): [ 15.04171283 -64.38336276]\n"
          ]
        }
      ]
    },
    {
      "cell_type": "markdown",
      "source": [
        "## Memprediksi data baru"
      ],
      "metadata": {
        "id": "jXEUUBvOElXy"
      }
    },
    {
      "cell_type": "code",
      "source": [
        "new_data = np.array([[300, 4.5]])\n",
        "predicted_sales = reg.predict(new_data)\n",
        "print(\"Prediksi Volume Penjualan:\", predicted_sales[0])"
      ],
      "metadata": {
        "colab": {
          "base_uri": "https://localhost:8080/"
        },
        "id": "xFu_enVvEp_R",
        "outputId": "73e91273-4b64-41e7-d598-2f0f4cc764a8"
      },
      "execution_count": null,
      "outputs": [
        {
          "output_type": "stream",
          "name": "stdout",
          "text": [
            "Prediksi Volume Penjualan: 4392.346193790052\n"
          ]
        },
        {
          "output_type": "stream",
          "name": "stderr",
          "text": [
            "/usr/local/lib/python3.12/dist-packages/sklearn/utils/validation.py:2739: UserWarning: X does not have valid feature names, but LinearRegression was fitted with feature names\n",
            "  warnings.warn(\n"
          ]
        }
      ]
    },
    {
      "cell_type": "markdown",
      "source": [
        "# Visualisasi Aktual vs Prediksi"
      ],
      "metadata": {
        "id": "EAwjLd1uFI3Q"
      }
    },
    {
      "cell_type": "code",
      "source": [
        "import matplotlib.pyplot as plt\n",
        "\n",
        "# Prediksi untuk seluruh dataset\n",
        "Y_pred = reg.predict(X)\n",
        "\n",
        "plt.scatter(Y, Y_pred, alpha = 0.7)\n",
        "plt.xlabel(\"Sales Volume Aktual\")\n",
        "plt.ylabel(\"Sales Volume Prediksi\")\n",
        "plt.title(\"Regresi Linear Berganda - Aktual vs Prediksi\")\n",
        "plt.plot([Y.min(), Y.max()], [Y.min(), Y.max()], 'r--')   # garis ideal\n",
        "plt.show()"
      ],
      "metadata": {
        "colab": {
          "base_uri": "https://localhost:8080/",
          "height": 472
        },
        "id": "P6BLu-bdFPsE",
        "outputId": "a3d3993d-2fb4-44eb-bd84-215efa3fa423"
      },
      "execution_count": null,
      "outputs": [
        {
          "output_type": "display_data",
          "data": {
            "text/plain": [
              "<Figure size 640x480 with 1 Axes>"
            ],
            "image/png": "[encoded data removed]"
          },
          "metadata": {}
        }
      ]
    }
  ]
}